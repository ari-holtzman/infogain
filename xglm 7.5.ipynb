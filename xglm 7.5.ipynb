{
 "cells": [
  {
   "cell_type": "code",
   "execution_count": 7,
   "id": "425b5b23",
   "metadata": {},
   "outputs": [],
   "source": [
    "import random\n",
    "from importlib import reload\n",
    "\n",
    "import torch\n",
    "\n",
    "from datasets import load_dataset\n",
    "\n",
    "from transformers import AutoTokenizer, AutoModelForCausalLM\n",
    "\n",
    "from util import mt"
   ]
  },
  {
   "cell_type": "code",
   "execution_count": 8,
   "id": "92a91a78",
   "metadata": {},
   "outputs": [],
   "source": [
    "model_name = 'EleutherAI/gpt-neo-125M'\n",
    "model_name = 'facebook/xglm-7.5B'"
   ]
  },
  {
   "cell_type": "code",
   "execution_count": 9,
   "id": "5170b939",
   "metadata": {},
   "outputs": [],
   "source": [
    "tokenizer = AutoTokenizer.from_pretrained(model_name)\n",
    "model = AutoModelForCausalLM.from_pretrained(model_name).eval().half().cuda()"
   ]
  },
  {
   "cell_type": "code",
   "execution_count": 16,
   "id": "a8be7dcd",
   "metadata": {},
   "outputs": [
    {
     "name": "stderr",
     "output_type": "stream",
     "text": [
      "/gscratch/zlab/ahai/miniconda3/lib/python3.9/site-packages/huggingface_hub/utils/_deprecation.py:97: FutureWarning: Deprecated argument(s) used in 'dataset_info': token. Will not be supported from version '0.12'.\n",
      "  warnings.warn(message, FutureWarning)\n",
      "Found cached dataset flores_101 (/gscratch/zlab/ahai/hf/datasets/gsarti___flores_101/fin/1.0.0/e663cc717b274f2cef5142df786973abbf1966a7115d99509c062936d77d4335)\n"
     ]
    },
    {
     "data": {
      "application/vnd.jupyter.widget-view+json": {
       "model_id": "73419746f1a4402db5b1feeb8901160d",
       "version_major": 2,
       "version_minor": 0
      },
      "text/plain": [
       "  0%|          | 0/2 [00:00<?, ?it/s]"
      ]
     },
     "metadata": {},
     "output_type": "display_data"
    },
    {
     "name": "stderr",
     "output_type": "stream",
     "text": [
      "/gscratch/zlab/ahai/miniconda3/lib/python3.9/site-packages/huggingface_hub/utils/_deprecation.py:97: FutureWarning: Deprecated argument(s) used in 'dataset_info': token. Will not be supported from version '0.12'.\n",
      "  warnings.warn(message, FutureWarning)\n",
      "Found cached dataset flores_101 (/gscratch/zlab/ahai/hf/datasets/gsarti___flores_101/eng/1.0.0/e663cc717b274f2cef5142df786973abbf1966a7115d99509c062936d77d4335)\n"
     ]
    },
    {
     "data": {
      "application/vnd.jupyter.widget-view+json": {
       "model_id": "8c356d8708364131bfa1b84a905c06e9",
       "version_major": 2,
       "version_minor": 0
      },
      "text/plain": [
       "  0%|          | 0/2 [00:00<?, ?it/s]"
      ]
     },
     "metadata": {},
     "output_type": "display_data"
    }
   ],
   "source": [
    "src = load_dataset(\"gsarti/flores_101\", 'fin')\n",
    "tgt = load_dataset(\"gsarti/flores_101\", 'eng')"
   ]
  },
  {
   "cell_type": "code",
   "execution_count": 17,
   "id": "1701fe7c",
   "metadata": {},
   "outputs": [],
   "source": [
    "src_endonym = 'suomi'\n",
    "tgt_endonym = 'english'"
   ]
  },
  {
   "cell_type": "code",
   "execution_count": 18,
   "id": "1bfa9b98",
   "metadata": {},
   "outputs": [],
   "source": [
    "def s_ids(s):\n",
    "  return tokenizer(s).input_ids[1:]"
   ]
  },
  {
   "cell_type": "code",
   "execution_count": 19,
   "id": "63023185",
   "metadata": {},
   "outputs": [],
   "source": [
    "def make_demo_prompt(src_endonym, tgt_endonym, src_points, tgt_points):\n",
    "  demos = []\n",
    "  for s, t in zip(src_points, tgt_points):\n",
    "    demo = f\"{src_endonym}: {s['sentence']} | {tgt_endonym}: {t['sentence']}\"\n",
    "    demos.append(demo)\n",
    "  demo_prompt_ids = [2]\n",
    "  for demo in demos:\n",
    "    demo_prompt_ids.extend(s_ids(demo))\n",
    "    demo_prompt_ids.append(2)\n",
    "  return demo_prompt_ids"
   ]
  },
  {
   "cell_type": "code",
   "execution_count": 20,
   "id": "948b5e58",
   "metadata": {},
   "outputs": [],
   "source": [
    "def make_unconditional_prompt(tgt, demo_tgts):\n",
    "  demo_prompt_ids = [2]\n",
    "  for t in demo_tgts:\n",
    "    demo_ids = s_ids(f\"{t['sentence']}\")\n",
    "    demo_prompt_ids.append(demo)\n",
    "    demo_prompt_ids.append([2])\n",
    "  return demo_prompt_ids"
   ]
  },
  {
   "cell_type": "code",
   "execution_count": 21,
   "id": "fbcf39bc",
   "metadata": {},
   "outputs": [],
   "source": [
    "k=32\n",
    "src_points = random.sample(list(src['devtest']), k=k)\n",
    "tgt_points = [ tgt['devtest'][point['id']-1] for point in src_points ]"
   ]
  },
  {
   "cell_type": "code",
   "execution_count": 22,
   "id": "d891d63c",
   "metadata": {},
   "outputs": [],
   "source": [
    "demo_prompt_ids = make_demo_prompt(src_endonym, tgt_endonym, src_points, tgt_points)"
   ]
  },
  {
   "cell_type": "code",
   "execution_count": 23,
   "id": "a7b33765",
   "metadata": {},
   "outputs": [],
   "source": [
    "inference_point = src['dev'][1] \n",
    "prompt_ids = demo_prompt_ids + s_ids(f\"{src_endonym}: {inference_point['sentence']} | {tgt_endonym}:\")\n",
    "prompt_t = torch.LongTensor([prompt_ids]).to(model.device)"
   ]
  },
  {
   "cell_type": "code",
   "execution_count": 24,
   "id": "a0860636",
   "metadata": {},
   "outputs": [
    {
     "name": "stdout",
     "output_type": "stream",
     "text": [
      "</s> suomi: Infrapunakuvien perusteella vuorokauden lämpötilavaihtelut vuorokauden osoittavat niiden olevan todennäköisesti luolia. | english: Infrared images show that the temperature variations from night and day show that they are likely caves.</s> suomi: Muista myös ääntää r ja rr eri tavalla. Caro tarkoittaa rakasta, carro vaunuja. | english: Also, make sure to pronounce r and rr differently: caro means dear, whereas carro means chariot.</s> suomi: Ratapölkyt otettiin käyttöön melko aikaisin pitämään raiteet paikoillaan. Vähitellen kuitenkin ymmärrettiin, että raiteet olisivat tehokkaampia, jos niiden päällä olisi rautainen kaistale. | english: Crossties were introduced fairly early to hold the tracks in place. Gradually, however, it was realised that tracks would be more efficient if they had a stip of iron on the top.</s> suomi: Vatikaanivaltio käyttää italian kieltä lainsäädännössään ja virallisessa viestinnässään. | english: Vatican City uses Italian in its legislation and official communications.</s> suomi: Paluuvirtaukset ovat rantaan murtuvien aaltojen palautuvaa virtausta. Usein niitä tavataan riutoilla tai vastaavanlaisissa paikoissa. | english: Rip currents are the returning flow from waves breaking off the beach, often at a reef or similar.</s> suomi: Näkyy vain selkeä, kaunis taivas yläpuolella ja monet ympäröivät vuoret. Luolan sisältä näkee tai kuulee hyvin vähän maallisesta maailmasta. | english: Nothing can be seen other than the clear, beautiful sky above and the many surrounding mountains. Very little of this world can be seen or heard from inside the cave.</s> suomi: Mutta hänen löydöstään huolimatta eskimoheimot asuivat jo silloin saarella. | english: But regardless of his discovery, Eskimo tribes were already living there at the time.</s> suomi: Virheellisesti toimivien iPodien ylikuumenemisia on ilmoitettu noin 60 tapauksessa, joista aiheutui yhteensä kuusi tulipaloa sekä lieviä palovammoja neljälle henkilölle. | english: Around 60 cases of malfunctioning iPods overheating have been reported, causing a total of six fires and leaving four people with minor burns.</s> suomi: Yhdysvaltain presidentti George W. Bush saapui Singaporeen aamulla 16. marraskuuta aloittaen viikon kestävän Aasian kiertomatkansa. | english: U.S. President George W. Bush arrived in Singapore the morning of November 16, beginning a week-long tour of Asia.</s> suomi: Kohtauksia esitetään pyramideja vasten, ja eri pyramideja valaistaan. | english: The scenes are displayed on the pyramids and the different pyramids are lit up.</s> suomi: Jos villilapsi on kasvatettu täysin jonkin muun eläimen kuin ihmisen toimesta, hän käyttäytyy (ruumiillisten rajoitustensa puitteissa) lähes täysin samalla tavoin hänen huoltajaeläimensä esimerkiksi osoittamalla samanlaista pelkoa tai välinpitämättömyyttä ihmisiä kohtaan. | english: When completely brought up by non-human animals, the feral child exhibits behaviors (within physical limits) almost entirely like those of the particular care-animal, such as its fear of or indifference to humans.</s> suomi: Samoin kuin kuun vetovoima vaikuttaa maahan aiheuttaen vuoroveden, niin myös Linnunradan vetovoima vaikuttaa Jousimiehen kääpiöellipsigalaksiin. | english: Just like the moon exerts a pull on the earth, causing tides, so does the Milky Way exert a force on the Sagittarius galaxy.</s> suomi: Valtakunnansyyttäjä Kier Starmer antoi tänä aamuna lausunnon, jossa hän ilmoitti Huhnen ja Prycen syyttämisestä. | english: The Director of Public Prosecutions, Kier Starmer QC, gave a statement this morning announcing the prosecution of both Huhne and Pryce.</s> suomi: Kansallinen hurrikaanikeskus NHC toteaa, ettei Jerry aiheuta tässä vaiheessa vaaraa maalla. | english: The National Hurricane Center (NHC) says that at this point Jerry poses no threat to land.</s> suomi: Sillan alikulkukorkeus on 15 metriä. Rakennustyöt päättyivät elokuussa 2011, mutta silta avattiin liikenteelle vasta maaliskuussa 2017. | english: The vertical clearance under the bridge is 15 meters. Construction was completed in August 2011, it didn't open to traffic until March 2017.</s> suomi: Potilas oli aiemmin ollut Nigeriassa, missä on ilmennyt jonkin verran ebolatapauksia. | english: The patient had been to Nigeria, where some cases of the Ebola virus have occurred.</s> suomi: Kasvit tuottavat ruokansa auringosta yhteyttämällä. Lisäksi ne suovat varjoa. | english: Plants make their food from the sun by photosynthesis. They also provide shade.</s> suomi: Välivaaleissa koetun tappiollisen viikon jälkeen Bush kertoi yleisölle Aasian kaupan kasvusta. | english: After a week of losses in the midterm election, Bush told an audience about the expansion of trade in Asia.</s> suomi: Internetissä yhdistyy sekä massaviestinnän että ihmisten välisen viestinnän aineksia. | english: The Internet combines elements of both mass and interpersonal communication.</s> suomi: Sen asema heikkeni 1100-luvulla pääasiassa siksi, että ristiretkeläiset olivat palanneet kotiin mukanaan silkin ja mausteiden kaltaisia lahjoja, joita arvostettiin enemmän kuin Bysantin markkinoiden tarjontaa. | english: Its status declined during the twelfth century mainly due to the fact that Crusaders had returned bearing gifts such as silks and spices that were valued more than what Byzantine markets offered.</s> suomi: Kuusi panttivankia, näiden joukossa lapset ja vanhukset, vapautettiin etuajassa kuten myös filippiiniläiset valokuvaajat. | english: Six hostages, including the children and elderly, were released early, as were the Filipino photographers.</s> suomi: Lisäksi jokaisen dynastian välissä oli epävakaa maakuntien jakaantumisen aika. Tunnetuin näistä ajanjaksoista oli 60 vuotta kestänyt kolmen kuningaskunnan kausi Han- ja Jin-dynastioiden välillä. | english: Also between each dynasty was an unstable age of divided provinces. The best-known of these periods was the Three Kingdoms epoch taking place for 60 years between the Han and the Jin Dynasty.</s> suomi: Erämaassa selviytymistä käsittelevät kirjat ja lehdet ovat yleisiä, mutta sota-alueita käsittelevät julkaisut ovat harvassa. | english: Books and magazines dealing with wilderness survival are common, but publications dealing with war zones are few.</s> suomi: Transsukupuolisten, jotka eivät ole käyneet leikkauksessa, ei kannata olettaa selviävänsä turvaskannereista säilyttäen yksityisyytensä ja arvokkuutensa. | english: Pre-operative transgender people should not expect to pass through the scanners with their privacy and dignity intact.</s> suomi: Konstantinopolia pidettiin feodaaliajan Euroopan muotipääkaupunkina samaan tapaan kuin Pariisi tunnetaan nykymaailman muotipääkaupunkina. | english: In the manner that Paris is known as the fashion capital of the contemporary world, Constantinople was regarded as the fashion capital of feudal Europe.</s> suomi: Jotkut ajattelivat hänen olevan oikeassa, mutta monet uskoivat päinvastaista, eli että koko Aurinkokunta liikkuu maapallon ympäri, myös Aurinko (ja jopa muut tähdet). | english: Some people thought he was right but many people believed the opposite; that the Solar System moved around the Earth, including the Sun (and even the other stars).</s> suomi: Siksi tämän koon kuvasuhteen (jaettaessa kahdellatoista, jotta saadaan yksinkertaisin kokolukusuhde) sanotaan olevan 3:2. | english: The aspect ratio of this format (dividing by twelve to obtain the simplest whole-number ratio) is therefore said to be 3:2.</s> suomi: Sitä edeltänyt Australopithecus ei kävellyt pystyasennossa yhtä jatkuvasti. | english: Their predecessors, the Australopithecus did not walk upright as habitually.</s> suomi: Jotta liikennevirtaa voitaisiin kuvata paremmin, on luotu suhde seuraavien kolmen pääominaisuuden välille: (1) virtauksen, (2) tiheyden ja (3) nopeuden. | english: To better represent traffic flow, relationships have been established between the three main characteristics: (1) flow, (2) density, and (3) velocity.</s> suomi: Atomit ovat niin uskomattoman pieniä, että niitä mahtuisi tämän lauseen päättävään pisteeseen biljoonittain. | english: Atoms are so incredibly tiny that trillions of them could fit into the period at the end of this sentence.</s> suomi: Yhdysvaltojen puolustusministeriön strateginen komentokeskus jäljittää satelliittien kappaleita. | english: The United States Strategic Command of the U.S. Department of Defense office is tracking the debris.</s> suomi: Pienempiä turnauksia ja otteluita voi nähdä myös muina vuodenaikoina. | english: Smaller tournaments and matches can also be seen here at other times of the year.</s> suomi: Johtavat tutkijat sanovat, että sen avulla syöpä, tuberkuloosi, HIV ja malaria voidaan todeta jo varhaisessa vaiheessa potilailla, jotka asuvat alhaisen tulotason maissa, missä esimerkiksi rintasyövän kaltaisen taudin eloonjäämisaste voi olla puolet rikkaampien maiden vastaavasta. | english:\n"
     ]
    }
   ],
   "source": [
    "print(tokenizer.decode(prompt_ids))"
   ]
  },
  {
   "cell_type": "code",
   "execution_count": 30,
   "id": "24dd20d3",
   "metadata": {},
   "outputs": [],
   "source": [
    "with torch.no_grad():\n",
    "  gen_ids = mt.greedy(model, prompt_t, 100)"
   ]
  },
  {
   "cell_type": "code",
   "execution_count": 31,
   "id": "ef9233e3",
   "metadata": {},
   "outputs": [
    {
     "data": {
      "text/plain": [
       "'Leading researchers say that by using it, cancer, tuberculosis, HIV and malaria can be detected in early stages of patients living in low-income countries, where for example, breast cancer survival rate can be half that of richer countries.</s> suomi: Hän on ollut mukana monissa hankkeissa, jotka ovat edistäneet tieteen ja teknologian kehitystä. | english: He has been involved in many projects that have promoted science and technology.</s> suomi:'"
      ]
     },
     "execution_count": 31,
     "metadata": {},
     "output_type": "execute_result"
    }
   ],
   "source": [
    "tokenizer.decode(gen_ids[0].tolist())"
   ]
  },
  {
   "cell_type": "code",
   "execution_count": 29,
   "id": "28221565",
   "metadata": {},
   "outputs": [
    {
     "data": {
      "text/plain": [
       "{'id': 2,\n",
       " 'URL': 'https://en.wikinews.org/wiki/Scientists_say_new_medical_diagnostic_chip_can_sort_cells_anywhere_with_an_inkjet',\n",
       " 'domain': 'wikinews',\n",
       " 'topic': 'health',\n",
       " 'has_image': 0,\n",
       " 'has_hyperlink': 0,\n",
       " 'sentence': 'Lead researchers say this may bring early detection of cancer, tuberculosis, HIV and malaria to patients in low-income countries, where the survival rates for illnesses such as breast cancer can be half those of richer countries.'}"
      ]
     },
     "execution_count": 29,
     "metadata": {},
     "output_type": "execute_result"
    }
   ],
   "source": [
    "tgt['dev'][1]"
   ]
  },
  {
   "cell_type": "code",
   "execution_count": null,
   "id": "98ea2b3b",
   "metadata": {},
   "outputs": [],
   "source": [
    "tokenizer.decode([2] + gen_ids[0].tolist())"
   ]
  },
  {
   "cell_type": "code",
   "execution_count": 52,
   "id": "6ddc3d54",
   "metadata": {},
   "outputs": [],
   "source": [
    "prompt_ids = torch.LongTensor([tokenizer('translate into english, 中文： 谢谢你！').input_ids[:-1]]).to(model.device)"
   ]
  },
  {
   "cell_type": "code",
   "execution_count": 39,
   "id": "08acd04e",
   "metadata": {},
   "outputs": [],
   "source": [
    "prompt_ids = torch.LongTensor([tokenizer('中文： 谢谢你!').input_ids + [2] + tokenizer('english:').input_ids[1:]]).to(model.device)\n",
    "                               \n",
    "                               "
   ]
  },
  {
   "cell_type": "code",
   "execution_count": 53,
   "id": "6b6113c6",
   "metadata": {},
   "outputs": [
    {
     "data": {
      "text/plain": [
       "[[2, 178680, 1531, 83763, 4, 6, 19773, 13, 6, 13305, 13305, 710]]"
      ]
     },
     "execution_count": 53,
     "metadata": {},
     "output_type": "execute_result"
    }
   ],
   "source": [
    "prompt_ids.tolist()"
   ]
  },
  {
   "cell_type": "code",
   "execution_count": 60,
   "id": "cdd568ae",
   "metadata": {},
   "outputs": [],
   "source": [
    "with torch.no_grad():\n",
    "  gen_ids = mt.sample(model, prompt_ids, 200)"
   ]
  },
  {
   "cell_type": "code",
   "execution_count": 61,
   "id": "39940ea3",
   "metadata": {},
   "outputs": [
    {
     "data": {
      "text/plain": [
       "'</s> (English, Chinese)</s> 据说,懂得‘谢谢’这个字的人,都有大智慧。那是因为懂得‘谢谢’的人有聪明的心,即是知足常乐的智慧。那么就会明白每个人来到人间的时候,经过十二玄门的艰难关卡,习得一种深刻的智识,这智识就是:舍得福。</s> 舍得,用舍得的智慧,用也、不也、有、无(4种开关)设,把世间的种地、食材、人、<unk>!生命所需,拿 as;拿 came;拿 take;拿 go、拿 do、拿 make;拿 lie和 etc.加..所以懂得舍得的智慧人,他的心胸开阔,能够洞悉行人的对工夫、思想、心情!用精练的心、深情的眼睛、严肃的态度、轻快的语气、亲切的笑'"
      ]
     },
     "execution_count": 61,
     "metadata": {},
     "output_type": "execute_result"
    }
   ],
   "source": [
    "tokenizer.decode([2] + gen_ids[0].tolist())"
   ]
  },
  {
   "cell_type": "code",
   "execution_count": 51,
   "id": "25d4f61a",
   "metadata": {},
   "outputs": [
    {
     "name": "stdout",
     "output_type": "stream",
     "text": [
      "</s> 中文: 谢谢你! | english\n"
     ]
    }
   ],
   "source": [
    "print(tokenizer.decode(prompt_ids[0]))"
   ]
  },
  {
   "cell_type": "code",
   "execution_count": 14,
   "id": "5b70b758",
   "metadata": {},
   "outputs": [
    {
     "data": {
      "text/plain": [
       "'Stanfordin yliopiston lääketieteen laitoksen tutkijat ilmoittivat maanantaina uuden diagnostiikkatyökalun keksimisestä: solut tyypin mukaan lajitteleva pienenpieni tulostettava siru, joka voidaan valmistaa normaaleilla mustesuihkutulostimilla mahdollisesti noin yhden Yhdysvaltain sentin kappalehintaan.'"
      ]
     },
     "execution_count": 14,
     "metadata": {},
     "output_type": "execute_result"
    }
   ],
   "source": [
    "inference_point['sentence']"
   ]
  },
  {
   "cell_type": "code",
   "execution_count": 22,
   "id": "b4078855",
   "metadata": {},
   "outputs": [
    {
     "data": {
      "text/plain": [
       "['SPECIAL_TOKENS_ATTRIBUTES',\n",
       " '__annotations__',\n",
       " '__call__',\n",
       " '__class__',\n",
       " '__delattr__',\n",
       " '__dict__',\n",
       " '__dir__',\n",
       " '__doc__',\n",
       " '__eq__',\n",
       " '__format__',\n",
       " '__ge__',\n",
       " '__getattribute__',\n",
       " '__gt__',\n",
       " '__hash__',\n",
       " '__init__',\n",
       " '__init_subclass__',\n",
       " '__le__',\n",
       " '__len__',\n",
       " '__lt__',\n",
       " '__module__',\n",
       " '__ne__',\n",
       " '__new__',\n",
       " '__reduce__',\n",
       " '__reduce_ex__',\n",
       " '__repr__',\n",
       " '__setattr__',\n",
       " '__sizeof__',\n",
       " '__str__',\n",
       " '__subclasshook__',\n",
       " '__weakref__',\n",
       " '_add_tokens',\n",
       " '_additional_special_tokens',\n",
       " '_auto_class',\n",
       " '_batch_encode_plus',\n",
       " '_bos_token',\n",
       " '_call_one',\n",
       " '_cls_token',\n",
       " '_convert_encoding',\n",
       " '_convert_id_to_token',\n",
       " '_convert_token_to_id_with_added_voc',\n",
       " '_create_repo',\n",
       " '_decode',\n",
       " '_decode_use_source_tokenizer',\n",
       " '_encode_plus',\n",
       " '_eos_token',\n",
       " '_eventual_warn_about_too_long_sequence',\n",
       " '_eventually_correct_t5_max_length',\n",
       " '_from_pretrained',\n",
       " '_get_files_timestamps',\n",
       " '_get_padding_truncation_strategies',\n",
       " '_in_target_context_manager',\n",
       " '_mask_token',\n",
       " '_pad',\n",
       " '_pad_token',\n",
       " '_pad_token_type_id',\n",
       " '_processor_class',\n",
       " '_save_pretrained',\n",
       " '_sep_token',\n",
       " '_set_processor_class',\n",
       " '_switch_to_input_mode',\n",
       " '_switch_to_target_mode',\n",
       " '_tokenizer',\n",
       " '_unk_token',\n",
       " '_upload_modified_files',\n",
       " 'add_special_tokens',\n",
       " 'add_tokens',\n",
       " 'additional_special_tokens',\n",
       " 'additional_special_tokens_ids',\n",
       " 'all_special_ids',\n",
       " 'all_special_tokens',\n",
       " 'all_special_tokens_extended',\n",
       " 'as_target_tokenizer',\n",
       " 'backend_tokenizer',\n",
       " 'batch_decode',\n",
       " 'batch_encode_plus',\n",
       " 'bos_token',\n",
       " 'bos_token_id',\n",
       " 'build_inputs_with_special_tokens',\n",
       " 'can_save_slow_tokenizer',\n",
       " 'clean_up_tokenization',\n",
       " 'cls_token',\n",
       " 'cls_token_id',\n",
       " 'convert_ids_to_tokens',\n",
       " 'convert_tokens_to_ids',\n",
       " 'convert_tokens_to_string',\n",
       " 'create_token_type_ids_from_sequences',\n",
       " 'decode',\n",
       " 'decoder',\n",
       " 'deprecation_warnings',\n",
       " 'encode',\n",
       " 'encode_plus',\n",
       " 'eos_token',\n",
       " 'eos_token_id',\n",
       " 'from_pretrained',\n",
       " 'get_added_vocab',\n",
       " 'get_special_tokens_mask',\n",
       " 'get_vocab',\n",
       " 'init_inputs',\n",
       " 'init_kwargs',\n",
       " 'is_fast',\n",
       " 'mask_token',\n",
       " 'mask_token_id',\n",
       " 'max_len_sentences_pair',\n",
       " 'max_len_single_sentence',\n",
       " 'max_model_input_sizes',\n",
       " 'model_input_names',\n",
       " 'model_max_length',\n",
       " 'name_or_path',\n",
       " 'num_madeup_words',\n",
       " 'num_special_tokens_to_add',\n",
       " 'pad',\n",
       " 'pad_token',\n",
       " 'pad_token_id',\n",
       " 'pad_token_type_id',\n",
       " 'padding_side',\n",
       " 'prepare_for_model',\n",
       " 'prepare_seq2seq_batch',\n",
       " 'pretrained_init_configuration',\n",
       " 'pretrained_vocab_files_map',\n",
       " 'push_to_hub',\n",
       " 'register_for_auto_class',\n",
       " 'sanitize_special_tokens',\n",
       " 'save_pretrained',\n",
       " 'save_vocabulary',\n",
       " 'sep_token',\n",
       " 'sep_token_id',\n",
       " 'set_truncation_and_padding',\n",
       " 'slow_tokenizer_class',\n",
       " 'special_tokens_map',\n",
       " 'special_tokens_map_extended',\n",
       " 'tokenize',\n",
       " 'train_new_from_iterator',\n",
       " 'truncate_sequences',\n",
       " 'truncation_side',\n",
       " 'unk_token',\n",
       " 'unk_token_id',\n",
       " 'verbose',\n",
       " 'vocab',\n",
       " 'vocab_file',\n",
       " 'vocab_files_names',\n",
       " 'vocab_size']"
      ]
     },
     "execution_count": 22,
     "metadata": {},
     "output_type": "execute_result"
    }
   ],
   "source": [
    "dir(tokenizer)"
   ]
  },
  {
   "cell_type": "code",
   "execution_count": 12,
   "id": "c8169866",
   "metadata": {},
   "outputs": [],
   "source": [
    "vocab = tokenizer.get_vocab()\n",
    "tokens = list(sorted(tokenizer.get_vocab(), key=lambda k: vocab[k]))"
   ]
  },
  {
   "cell_type": "code",
   "execution_count": 13,
   "id": "c9b91f8e",
   "metadata": {},
   "outputs": [
    {
     "data": {
      "text/plain": [
       "['<s>', '<pad>', '</s>', '<unk>', ',', '.', '▁', 's', '-', 'a']"
      ]
     },
     "execution_count": 13,
     "metadata": {},
     "output_type": "execute_result"
    }
   ],
   "source": [
    "tokens[:10]"
   ]
  },
  {
   "cell_type": "code",
   "execution_count": 31,
   "id": "c9b43d40",
   "metadata": {},
   "outputs": [
    {
     "data": {
      "text/plain": [
       "Parameter containing:\n",
       "tensor([[-0.0079,  0.0080, -0.0081,  ..., -0.0215,  0.0009, -0.0312],\n",
       "        [-0.0011, -0.0034,  0.0039,  ..., -0.0026,  0.0019, -0.0105],\n",
       "        [ 0.0152,  0.1249, -0.0972,  ..., -0.0403, -0.0509,  0.0708],\n",
       "        ...,\n",
       "        [-0.0106, -0.0220, -0.0239,  ..., -0.0101,  0.0071, -0.0078],\n",
       "        [-0.0041, -0.0020, -0.0120,  ..., -0.0260,  0.0097, -0.0233],\n",
       "        [ 0.0101,  0.0316,  0.0064,  ..., -0.0074, -0.0031, -0.0039]],\n",
       "       device='cuda:0', dtype=torch.float16, requires_grad=True)"
      ]
     },
     "execution_count": 31,
     "metadata": {},
     "output_type": "execute_result"
    }
   ],
   "source": [
    "model.model.embed_tokens.weight"
   ]
  },
  {
   "cell_type": "code",
   "execution_count": 33,
   "id": "cdf5c420",
   "metadata": {},
   "outputs": [],
   "source": [
    "with open('eng_val.txt', 'w') as out:\n",
    "  for datum in tgt['dev']:\n",
    "    out.write(f'{datum[\"sentence\"]}\\n')"
   ]
  },
  {
   "cell_type": "code",
   "execution_count": 37,
   "id": "a555c903",
   "metadata": {},
   "outputs": [
    {
     "data": {
      "text/plain": [
       "{'id': 1,\n",
       " 'URL': 'https://en.wikinews.org/wiki/Scientists_say_new_medical_diagnostic_chip_can_sort_cells_anywhere_with_an_inkjet',\n",
       " 'domain': 'wikinews',\n",
       " 'topic': 'health',\n",
       " 'has_image': 0,\n",
       " 'has_hyperlink': 0,\n",
       " 'sentence': 'Stanfordin yliopiston lääketieteen laitoksen tutkijat ilmoittivat maanantaina uuden diagnostiikkatyökalun keksimisestä: solut tyypin mukaan lajitteleva pienenpieni tulostettava siru, joka voidaan valmistaa normaaleilla mustesuihkutulostimilla mahdollisesti noin yhden Yhdysvaltain sentin kappalehintaan.'}"
      ]
     },
     "execution_count": 37,
     "metadata": {},
     "output_type": "execute_result"
    }
   ],
   "source": [
    "src['dev'][0]"
   ]
  },
  {
   "cell_type": "code",
   "execution_count": 38,
   "id": "0f9a3ae0",
   "metadata": {},
   "outputs": [
    {
     "data": {
      "text/plain": [
       "{'id': 1,\n",
       " 'URL': 'https://en.wikinews.org/wiki/Scientists_say_new_medical_diagnostic_chip_can_sort_cells_anywhere_with_an_inkjet',\n",
       " 'domain': 'wikinews',\n",
       " 'topic': 'health',\n",
       " 'has_image': 0,\n",
       " 'has_hyperlink': 0,\n",
       " 'sentence': 'On Monday, scientists from the Stanford University School of Medicine announced the invention of a new diagnostic tool that can sort cells by type: a tiny printable chip that can be manufactured using standard inkjet printers for possibly about one U.S. cent each.'}"
      ]
     },
     "execution_count": 38,
     "metadata": {},
     "output_type": "execute_result"
    }
   ],
   "source": [
    "tgt['dev'][0]"
   ]
  },
  {
   "cell_type": "code",
   "execution_count": null,
   "id": "e23cc56f",
   "metadata": {},
   "outputs": [],
   "source": []
  }
 ],
 "metadata": {
  "kernelspec": {
   "display_name": "Python 3 (ipykernel)",
   "language": "python",
   "name": "python3"
  },
  "language_info": {
   "codemirror_mode": {
    "name": "ipython",
    "version": 3
   },
   "file_extension": ".py",
   "mimetype": "text/x-python",
   "name": "python",
   "nbconvert_exporter": "python",
   "pygments_lexer": "ipython3",
   "version": "3.9.5"
  }
 },
 "nbformat": 4,
 "nbformat_minor": 5
}
