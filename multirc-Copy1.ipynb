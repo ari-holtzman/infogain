{
 "cells": [
  {
   "cell_type": "code",
   "execution_count": 1,
   "id": "1253ef70",
   "metadata": {},
   "outputs": [],
   "source": [
    "#!/usr/bin/env python\n",
    "# coding: utf-8\n",
    "\n",
    "import math\n",
    "import random\n",
    "import os\n",
    "import json\n",
    "\n",
    "\n",
    "import inspect\n",
    "import code\n",
    "\n",
    "import torch\n",
    "from torch.nn.functional import cross_entropy, log_softmax\n",
    "\n",
    "import datasets\n",
    "from util import const, icl, lm, infogain, util"
   ]
  },
  {
   "cell_type": "code",
   "execution_count": 2,
   "id": "73e7da73",
   "metadata": {},
   "outputs": [],
   "source": [
    "args = type('', (), {})()\n",
    "# parser.add_argument('out_file', type=str)\n",
    "# args.out_file = NotImplemented\n",
    "# parser.add_argument('--n_tries', type=int, default=10)\n",
    "args.n_tries = NotImplemented\n",
    "# parser.add_argument('--p', type=float, default=0.5)\n",
    "args.p = NotImplemented\n",
    "# parser.add_argument('--gen_len', type=int, default=50)\n",
    "args.gen_len = NotImplemented\n",
    "# parser.add_argument('--model', type=str, default='n125m')\n",
    "args.model = '2l'\n",
    "# parser.add_argument('--n_demos', type=int, default=10)\n",
    "args.n_demos = NotImplemented\n",
    "# parser.add_argument('--n_gen_bs', type=int, default=10)\n",
    "args.n_gen_bs = NotImplemented\n",
    "# parser.add_argument('--device', type=str, default='cuda')\n",
    "args.device = 'cuda'\n",
    "# parser.add_argument('--seed', type=int, default=0)\n",
    "args.seed = 0\n",
    "# parser.add_argument('--worker_id', type=int, default=None)\n",
    "args.worker_id = NotImplemented\n",
    "# parser.add_argument('--n_shards', type=int, default=None)\n",
    "args.n_shards = NotImplemented\n",
    "# parser.add_argument('--print_int', type=int, default=1)\n",
    "args.print_int = NotImplemented\n",
    "# parser.add_argument('--override', action='store_true')\n",
    "args.override = NotImplemented\n",
    "\n",
    "# if args.override:\n",
    "#     with open(args.out_file, 'w') as out:\n",
    "#         pass\n",
    "# else:\n",
    "#     assert(not os.path.exists(args.out_file))\n",
    "\n",
    "util.set_all_seeds(args.seed)"
   ]
  },
  {
   "cell_type": "code",
   "execution_count": 3,
   "id": "8147553b",
   "metadata": {},
   "outputs": [],
   "source": [
    "with open('data/multirc/dev.json') as f:\n",
    "  data = json.load(f)['data']"
   ]
  },
  {
   "cell_type": "code",
   "execution_count": 17,
   "id": "c556ec00",
   "metadata": {},
   "outputs": [],
   "source": [
    "idxs = set()\n",
    "for datum in data:\n",
    "  datum = datum['paragraph']\n",
    "  passage_text = datum['text']\n",
    "  for question in datum['questions']:\n",
    "    question_text = question['question']\n",
    "    idxs.update(question['sentences_used'])\n",
    "    answers = question['answers']"
   ]
  },
  {
   "cell_type": "code",
   "execution_count": 18,
   "id": "baf58b60",
   "metadata": {},
   "outputs": [
    {
     "data": {
      "text/plain": [
       "{0, 1, 2, 3, 4, 5, 6, 7, 8, 9, 10, 11, 12, 13, 14, 15, 16, 17, 18, 19}"
      ]
     },
     "execution_count": 18,
     "metadata": {},
     "output_type": "execute_result"
    }
   ],
   "source": []
  },
  {
   "cell_type": "code",
   "execution_count": 14,
   "id": "7dace0d0",
   "metadata": {},
   "outputs": [],
   "source": [
    "import re\n",
    "def proc_passage(s):\n",
    "  s = re.sub('<b>.*?</b>', '', s)\n",
    "  secs = s.split('<br>')\n",
    "  secs = [ sec.strip() for sec in secs ]\n",
    "  secs = list(filter(lambda s: len(s) > 0, secs))\n",
    "  secs = [ ' '.join(sec.split()) for sec in secs]\n",
    "  return secs"
   ]
  },
  {
   "cell_type": "code",
   "execution_count": 15,
   "id": "7ffc2592",
   "metadata": {},
   "outputs": [
    {
     "data": {
      "text/plain": [
       "['Bin Laden began delivering diatribes against the United States before he left Saudi Arabia.',\n",
       " 'He continued to do so after he arrived in Sudan.',\n",
       " 'In early 1992, the al Qaeda leadership issued a fatwa calling for jihad against the Western \"occupation\" of Islamic lands.',\n",
       " \"Specifically singling out U.S. forces for attack, the language resembled that which would appear in Bin Laden's public fatwa in August 1996.\",\n",
       " 'In ensuing weeks, Bin Laden delivered an often-repeated lecture on the need to cut off \"the head of the snake.\"',\n",
       " 'By this time, Bin Laden was well-known and a senior figure among Islamist extremists, especially those in Egypt, the Arabian Peninsula, and the Afghanistan-Pakistan border region.',\n",
       " 'Still, he was just one among many diverse terrorist barons.',\n",
       " \"Some of Bin Laden's close comrades were more peers than subordinates.\",\n",
       " 'For example, Usama Asmurai, also known as Wali Khan, worked with Bin Laden in the early 1980s and helped him in the Philippines and in Tajikistan.',\n",
       " 'The Egyptian spiritual guide based in New Jersey, the Blind Sheikh, whom Bin Laden admired, was also in the network.',\n",
       " 'Among sympathetic peers in Afghanistan were a few of the warlords still fighting for power and Abu Zubaydah, who helped operate a popular terrorist training camp near the border with Pakistan.',\n",
       " \"There were also rootless but experienced operatives, such as Ramzi Yousef and Khalid Sheikh Mohammed, who-though not necessarily formal members of someone else's organization-were traveling around the world and joining in projects that were supported by or linked to Bin Laden, the Blind Sheikh, or their associates.\",\n",
       " 'In now analyzing the terrorist programs carried out by members of this network, it would be misleading to apply the label \"al Qaeda operations\" too often in these early years.',\n",
       " 'Yet it would also be misleading to ignore the significance of these connections.',\n",
       " \"And in this network, Bin Laden's agenda stood out.\",\n",
       " 'While his allied Islamist groups were focused on local battles, such as those in Egypt, Algeria, Bosnia, or Chechnya, Bin Laden concentrated on attacking the \"far enemy\"-the United States.',\n",
       " 'After U.S. troops deployed to Somalia in late 1992, al Qaeda leaders formulated a fatwa demanding their eviction.',\n",
       " 'In December, bombs exploded at two hotels in Aden where U.S. troops routinely stopped en route to Somalia, killing two, but no Americans.']"
      ]
     },
     "execution_count": 15,
     "metadata": {},
     "output_type": "execute_result"
    }
   ],
   "source": [
    "proc_passage(passage_text)"
   ]
  },
  {
   "cell_type": "code",
   "execution_count": 16,
   "id": "0de3804d",
   "metadata": {},
   "outputs": [
    {
     "data": {
      "text/plain": [
       "{'question': \"Who were considered Bin Laden's peers?\",\n",
       " 'sentences_used': [9, 11, 7, 8],\n",
       " 'answers': [{'text': 'The Egyptian spiritual guide',\n",
       "   'isAnswer': True,\n",
       "   'scores': {}},\n",
       "  {'text': 'Usama Asmurai', 'isAnswer': True, 'scores': {}},\n",
       "  {'text': 'Wali Khan', 'isAnswer': True, 'scores': {}},\n",
       "  {'text': 'the Blind Sheikh', 'isAnswer': True, 'scores': {}},\n",
       "  {'text': 'Abu Zubaydah', 'isAnswer': False, 'scores': {}},\n",
       "  {'text': 'Deaf Sheik', 'isAnswer': False, 'scores': {}},\n",
       "  {'text': 'US Troops', 'isAnswer': False, 'scores': {}}],\n",
       " 'idx': '11',\n",
       " 'multisent': False}"
      ]
     },
     "execution_count": 16,
     "metadata": {},
     "output_type": "execute_result"
    }
   ],
   "source": [
    "question"
   ]
  },
  {
   "cell_type": "code",
   "execution_count": null,
   "id": "9f0e82b1",
   "metadata": {},
   "outputs": [],
   "source": []
  },
  {
   "cell_type": "code",
   "execution_count": null,
   "id": "3a8a152d",
   "metadata": {},
   "outputs": [],
   "source": []
  },
  {
   "cell_type": "code",
   "execution_count": 7,
   "id": "40148aba",
   "metadata": {
    "scrolled": true
   },
   "outputs": [],
   "source": [
    "def multirc_make_tests(question_text, answer_texts):\n",
    "  tests = []\n",
    "  for answer in answer_texts:\n",
    "    pos = f'{question_text.strip()} {answer.strip()}'\n",
    "    negs = [ f'{answer.strip()}', f'{question_text.strip()}' ]\n",
    "    tests.append((pos, negs))\n",
    "  return tests"
   ]
  },
  {
   "cell_type": "code",
   "execution_count": 27,
   "id": "b77ec211",
   "metadata": {},
   "outputs": [],
   "source": [
    "datum = data[0]['paragraph']"
   ]
  },
  {
   "cell_type": "code",
   "execution_count": 25,
   "id": "4b8f5e83",
   "metadata": {},
   "outputs": [
    {
     "data": {
      "text/plain": [
       "{'text': 'Deborah Russel and the media who saw the video as sexist',\n",
       " 'isAnswer': True,\n",
       " 'scores': {}}"
      ]
     },
     "execution_count": 25,
     "metadata": {},
     "output_type": "execute_result"
    }
   ],
   "source": [
    "datum['questions'][0]['answers'][0]"
   ]
  },
  {
   "cell_type": "code",
   "execution_count": 32,
   "id": "be23e3e8",
   "metadata": {},
   "outputs": [
    {
     "data": {
      "text/plain": [
       "[(\"Who were the people that opposed Air New Zealand's decisions? Deborah Russel and the media who saw the video as sexist\",\n",
       "  ['Deborah Russel and the media who saw the video as sexist',\n",
       "   \"Who were the people that opposed Air New Zealand's decisions?\"]),\n",
       " (\"Who were the people that opposed Air New Zealand's decisions? Sarah Gomez\",\n",
       "  ['Sarah Gomez',\n",
       "   \"Who were the people that opposed Air New Zealand's decisions?\"]),\n",
       " (\"Who were the people that opposed Air New Zealand's decisions? Sports Illustrated\",\n",
       "  ['Sports Illustrated',\n",
       "   \"Who were the people that opposed Air New Zealand's decisions?\"]),\n",
       " (\"Who were the people that opposed Air New Zealand's decisions? Deborah Russell\",\n",
       "  ['Deborah Russell',\n",
       "   \"Who were the people that opposed Air New Zealand's decisions?\"]),\n",
       " (\"Who were the people that opposed Air New Zealand's decisions? Christy Brinkley\",\n",
       "  ['Christy Brinkley',\n",
       "   \"Who were the people that opposed Air New Zealand's decisions?\"])]"
      ]
     },
     "execution_count": 32,
     "metadata": {},
     "output_type": "execute_result"
    }
   ],
   "source": [
    "multirc_make_test(datum['questions'][0]['question'], [ d['text'] for d in datum['questions'][0]['answers'] ])"
   ]
  },
  {
   "cell_type": "code",
   "execution_count": 31,
   "id": "94c42b4d",
   "metadata": {},
   "outputs": [
    {
     "data": {
      "text/plain": [
       "dict_keys(['question', 'sentences_used', 'answers', 'idx', 'multisent'])"
      ]
     },
     "execution_count": 31,
     "metadata": {},
     "output_type": "execute_result"
    }
   ],
   "source": [
    "datum['questions'][0].keys()"
   ]
  },
  {
   "cell_type": "code",
   "execution_count": 8,
   "id": "1f045746",
   "metadata": {},
   "outputs": [],
   "source": [
    "def get_pad_lens(m, pad=0):\n",
    "  if len(m) < 2:\n",
    "    return [0]*len(m)\n",
    "  max_len = float('-inf')\n",
    "  for row in m:\n",
    "    max_len = max(max_len, len(row))\n",
    "  pad_lens = []\n",
    "  for row in m:\n",
    "    pad_len = max_len-len(row)\n",
    "    pad_lens.append(pad_len)\n",
    "  return pad_lens"
   ]
  },
  {
   "cell_type": "code",
   "execution_count": 34,
   "id": "9d94d13f",
   "metadata": {},
   "outputs": [],
   "source": [
    "def get_lens(m):\n",
    "  lens = []\n",
    "  for row in m:\n",
    "    lens.append(len(row))\n",
    "  return lense"
   ]
  },
  {
   "cell_type": "code",
   "execution_count": null,
   "id": "1e97ae40",
   "metadata": {},
   "outputs": [],
   "source": []
  }
 ],
 "metadata": {
  "kernelspec": {
   "display_name": "Python 3 (ipykernel)",
   "language": "python",
   "name": "python3"
  },
  "language_info": {
   "codemirror_mode": {
    "name": "ipython",
    "version": 3
   },
   "file_extension": ".py",
   "mimetype": "text/x-python",
   "name": "python",
   "nbconvert_exporter": "python",
   "pygments_lexer": "ipython3",
   "version": "3.9.5"
  }
 },
 "nbformat": 4,
 "nbformat_minor": 5
}
